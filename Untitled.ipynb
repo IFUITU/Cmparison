{
 "cells": [
  {
   "cell_type": "code",
   "execution_count": 1,
   "id": "a59bdc62",
   "metadata": {},
   "outputs": [
    {
     "ename": "ModuleNotFoundError",
     "evalue": "No module named 'pandas'",
     "output_type": "error",
     "traceback": [
      "\u001b[0;31m---------------------------------------------------------------------------\u001b[0m",
      "\u001b[0;31mModuleNotFoundError\u001b[0m                       Traceback (most recent call last)",
      "Cell \u001b[0;32mIn [1], line 1\u001b[0m\n\u001b[0;32m----> 1\u001b[0m \u001b[38;5;28;01mimport\u001b[39;00m \u001b[38;5;21;01mpandas\u001b[39;00m \u001b[38;5;28;01mas\u001b[39;00m \u001b[38;5;21;01mpd\u001b[39;00m\n",
      "\u001b[0;31mModuleNotFoundError\u001b[0m: No module named 'pandas'"
     ]
    }
   ],
   "source": []
  },
  {
   "cell_type": "code",
   "execution_count": 2,
   "id": "294780c6",
   "metadata": {},
   "outputs": [
    {
     "name": "stdout",
     "output_type": "stream",
     "text": [
      "Collecting pandas\n",
      "  Downloading pandas-1.5.0-cp38-cp38-manylinux_2_17_x86_64.manylinux2014_x86_64.whl (12.2 MB)\n",
      "\u001b[K     |████████████████████████████████| 12.2 MB 1.3 MB/s eta 0:00:01    |███████▉                        | 3.0 MB 369 kB/s eta 0:00:25     |██████████████████▏             | 6.9 MB 6.7 MB/s eta 0:00:01     |███████████████████████████▌    | 10.5 MB 1.8 MB/s eta 0:00:01\n",
      "\u001b[?25hRequirement already satisfied: python-dateutil>=2.8.1 in /mnt/1E36996536993F29/Projects/PythonProjects/nz_free_pr/pr/comparison/env_pyxl/lib/python3.8/site-packages (from pandas) (2.8.2)\n",
      "Requirement already satisfied: pytz>=2020.1 in /mnt/1E36996536993F29/Projects/PythonProjects/nz_free_pr/pr/comparison/env_pyxl/lib/python3.8/site-packages (from pandas) (2022.1)\n",
      "Collecting numpy>=1.20.3; python_version < \"3.10\"\n",
      "  Downloading numpy-1.23.3-cp38-cp38-manylinux_2_17_x86_64.manylinux2014_x86_64.whl (17.1 MB)\n",
      "\u001b[K     |████████████████████████████████| 17.1 MB 2.9 MB/s eta 0:00:01    |████████████▍                   | 6.6 MB 2.4 MB/s eta 0:00:05     |█████████████▍                  | 7.2 MB 2.4 MB/s eta 0:00:05     |██████████████████████████████▉ | 16.5 MB 2.9 MB/s eta 0:00:01     |███████████████████████████████▉| 17.0 MB 2.9 MB/s eta 0:00:01\n",
      "\u001b[?25hRequirement already satisfied: six>=1.5 in /mnt/1E36996536993F29/Projects/PythonProjects/nz_free_pr/pr/comparison/env_pyxl/lib/python3.8/site-packages (from python-dateutil>=2.8.1->pandas) (1.16.0)\n",
      "Installing collected packages: numpy, pandas\n",
      "Successfully installed numpy-1.23.3 pandas-1.5.0\n"
     ]
    }
   ],
   "source": [
    "!pip install pandas"
   ]
  },
  {
   "cell_type": "code",
   "execution_count": 3,
   "id": "0c870fc8",
   "metadata": {},
   "outputs": [],
   "source": [
    "import pandas as pd"
   ]
  },
  {
   "cell_type": "code",
   "execution_count": 20,
   "id": "2a335fbb",
   "metadata": {},
   "outputs": [],
   "source": [
    "wb = pd.read_excel('sample.xlsx')"
   ]
  },
  {
   "cell_type": "code",
   "execution_count": 21,
   "id": "4d3b2041",
   "metadata": {},
   "outputs": [],
   "source": [
    "wb_2 = pd.read_excel(\"sample.xlsx\")"
   ]
  },
  {
   "cell_type": "code",
   "execution_count": null,
   "id": "f284c4df",
   "metadata": {},
   "outputs": [],
   "source": []
  },
  {
   "cell_type": "code",
   "execution_count": 14,
   "id": "559b81fa",
   "metadata": {},
   "outputs": [
    {
     "data": {
      "text/plain": [
       "0      Абинекс таб. 0,5 мг №8 (Каберголин)\n",
       "1                   Адемта таб. 400 мг №20\n",
       "2                      Адеп таб. 30 мг №30\n",
       "3         Аджисепт паст. со вк. ананас №24\n",
       "4         Аджисепт паст. со вк. ананас №24\n",
       "                      ...                 \n",
       "823              Эутирокс таб. 150 мг №100\n",
       "824               Эутирокс таб. 50 мг №100\n",
       "825                       Эффект капс. №20\n",
       "826                Юниксим капс. 400 мг №6\n",
       "827             Юперио таб. 97мг/103мг №28\n",
       "Name: Unnamed: 1, Length: 828, dtype: object"
      ]
     },
     "metadata": {},
     "output_type": "display_data"
    },
    {
     "data": {
      "text/plain": [
       "0      Абинекс таб. 0,5 мг №8 (Каберголин)\n",
       "1                   Адемта таб. 400 мг №20\n",
       "2                      Адеп таб. 30 мг №30\n",
       "3         Аджисепт паст. со вк. ананас №24\n",
       "4         Аджисепт паст. со вк. ананас №24\n",
       "                      ...                 \n",
       "823              Эутирокс таб. 150 мг №100\n",
       "824               Эутирокс таб. 50 мг №100\n",
       "825                       Эффект капс. №20\n",
       "826                Юниксим капс. 400 мг №6\n",
       "827             Юперио таб. 97мг/103мг №28\n",
       "Name: Unnamed: 1, Length: 828, dtype: object"
      ]
     },
     "metadata": {},
     "output_type": "display_data"
    }
   ],
   "source": [
    "display(wb['Unnamed: 1'])\n",
    "display(wb['Unnamed: 1'])\n"
   ]
  },
  {
   "cell_type": "code",
   "execution_count": 23,
   "id": "6d3a85b9",
   "metadata": {},
   "outputs": [
    {
     "data": {
      "text/plain": [
       "Аджисепт паст. со вк. лимон №24        7\n",
       "Аджисепт паст. со вк. ананас №24       7\n",
       "Аджисепт паст. со вк. апельсина №24    7\n",
       "Аджисепт паст. со вк. банан №24        7\n",
       "Аджисепт паст. со вк. вишня №24        7\n",
       "                                      ..\n",
       "Дюфастон таб. 10 мг №14                1\n",
       "Дюфастон таб. 10 мг №20                1\n",
       "Женьшень Лик настойка 30мл             1\n",
       "Зардекс капс. 300мг №100               1\n",
       "Юперио таб. 97мг/103мг №28             1\n",
       "Name: Unnamed: 1, Length: 689, dtype: int64"
      ]
     },
     "metadata": {},
     "output_type": "display_data"
    }
   ],
   "source": [
    "wb['Unnamed: 1'].value_counts()"
   ]
  },
  {
   "cell_type": "code",
   "execution_count": null,
   "id": "8f3143b8",
   "metadata": {},
   "outputs": [],
   "source": []
  },
  {
   "cell_type": "code",
   "execution_count": null,
   "id": "a0dc08c2",
   "metadata": {},
   "outputs": [],
   "source": []
  },
  {
   "cell_type": "code",
   "execution_count": null,
   "id": "6efcf137",
   "metadata": {},
   "outputs": [],
   "source": []
  },
  {
   "cell_type": "code",
   "execution_count": null,
   "id": "0e948be8",
   "metadata": {},
   "outputs": [],
   "source": []
  },
  {
   "cell_type": "code",
   "execution_count": null,
   "id": "1658d493",
   "metadata": {},
   "outputs": [],
   "source": []
  },
  {
   "cell_type": "code",
   "execution_count": null,
   "id": "6b036c91",
   "metadata": {},
   "outputs": [],
   "source": []
  },
  {
   "cell_type": "code",
   "execution_count": null,
   "id": "8c89e0c1",
   "metadata": {},
   "outputs": [],
   "source": []
  },
  {
   "cell_type": "code",
   "execution_count": null,
   "id": "8e5b2355",
   "metadata": {},
   "outputs": [],
   "source": []
  },
  {
   "cell_type": "code",
   "execution_count": null,
   "id": "72ac965e",
   "metadata": {},
   "outputs": [],
   "source": []
  },
  {
   "cell_type": "code",
   "execution_count": null,
   "id": "978ff555",
   "metadata": {},
   "outputs": [],
   "source": []
  },
  {
   "cell_type": "code",
   "execution_count": null,
   "id": "a2d85c98",
   "metadata": {},
   "outputs": [],
   "source": []
  },
  {
   "cell_type": "code",
   "execution_count": null,
   "id": "0334c875",
   "metadata": {},
   "outputs": [],
   "source": []
  },
  {
   "cell_type": "code",
   "execution_count": null,
   "id": "2dd7b4f1",
   "metadata": {},
   "outputs": [],
   "source": []
  },
  {
   "cell_type": "code",
   "execution_count": null,
   "id": "6a4d44f3",
   "metadata": {},
   "outputs": [],
   "source": []
  },
  {
   "cell_type": "code",
   "execution_count": null,
   "id": "6a66ca76",
   "metadata": {},
   "outputs": [],
   "source": []
  },
  {
   "cell_type": "code",
   "execution_count": null,
   "id": "98ab0a2c",
   "metadata": {},
   "outputs": [],
   "source": []
  },
  {
   "cell_type": "code",
   "execution_count": null,
   "id": "e3587f96",
   "metadata": {},
   "outputs": [],
   "source": []
  },
  {
   "cell_type": "code",
   "execution_count": null,
   "id": "00cf171f",
   "metadata": {},
   "outputs": [],
   "source": []
  },
  {
   "cell_type": "code",
   "execution_count": null,
   "id": "524a0e75",
   "metadata": {},
   "outputs": [],
   "source": []
  },
  {
   "cell_type": "code",
   "execution_count": null,
   "id": "cdbb137d",
   "metadata": {},
   "outputs": [],
   "source": []
  },
  {
   "cell_type": "code",
   "execution_count": null,
   "id": "31bccb83",
   "metadata": {},
   "outputs": [],
   "source": []
  },
  {
   "cell_type": "code",
   "execution_count": null,
   "id": "13115551",
   "metadata": {},
   "outputs": [],
   "source": []
  },
  {
   "cell_type": "code",
   "execution_count": null,
   "id": "2747353f",
   "metadata": {},
   "outputs": [],
   "source": []
  },
  {
   "cell_type": "code",
   "execution_count": null,
   "id": "d3093387",
   "metadata": {},
   "outputs": [],
   "source": []
  },
  {
   "cell_type": "code",
   "execution_count": null,
   "id": "0495c93e",
   "metadata": {},
   "outputs": [],
   "source": []
  },
  {
   "cell_type": "code",
   "execution_count": null,
   "id": "db47a28b",
   "metadata": {},
   "outputs": [],
   "source": []
  }
 ],
 "metadata": {
  "kernelspec": {
   "display_name": "Python 3 (ipykernel)",
   "language": "python",
   "name": "python3"
  },
  "language_info": {
   "codemirror_mode": {
    "name": "ipython",
    "version": 3
   },
   "file_extension": ".py",
   "mimetype": "text/x-python",
   "name": "python",
   "nbconvert_exporter": "python",
   "pygments_lexer": "ipython3",
   "version": "3.8.10"
  }
 },
 "nbformat": 4,
 "nbformat_minor": 5
}
