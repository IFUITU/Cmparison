{
 "cells": [
  {
   "cell_type": "code",
   "execution_count": 2,
   "id": "7789b21f",
   "metadata": {},
   "outputs": [],
   "source": [
    "import pandas as pd"
   ]
  },
  {
   "cell_type": "code",
   "execution_count": 3,
   "id": "efe5354d",
   "metadata": {},
   "outputs": [],
   "source": [
    "df = pd.read_excel(\"Волфарм1.xlsx\")\n",
    "df1 = pd.read_excel(\"Бизаники.xlsx\")"
   ]
  },
  {
   "cell_type": "code",
   "execution_count": 12,
   "id": "fdffefa3",
   "metadata": {},
   "outputs": [],
   "source": [
    "# df.style.applymap(lambda x: \"color: green\")"
   ]
  },
  {
   "cell_type": "code",
   "execution_count": null,
   "id": "f0de14ab",
   "metadata": {},
   "outputs": [],
   "source": []
  },
  {
   "cell_type": "code",
   "execution_count": null,
   "id": "ff16db0c",
   "metadata": {},
   "outputs": [],
   "source": []
  },
  {
   "cell_type": "code",
   "execution_count": null,
   "id": "ded8e877",
   "metadata": {},
   "outputs": [],
   "source": []
  }
 ],
 "metadata": {
  "kernelspec": {
   "display_name": "Python 3 (ipykernel)",
   "language": "python",
   "name": "python3"
  },
  "language_info": {
   "codemirror_mode": {
    "name": "ipython",
    "version": 3
   },
   "file_extension": ".py",
   "mimetype": "text/x-python",
   "name": "python",
   "nbconvert_exporter": "python",
   "pygments_lexer": "ipython3",
   "version": "3.8.10"
  }
 },
 "nbformat": 4,
 "nbformat_minor": 5
}
